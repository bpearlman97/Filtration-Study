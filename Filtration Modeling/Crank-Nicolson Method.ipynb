{
 "cells": [
  {
   "cell_type": "markdown",
   "metadata": {},
   "source": [
    "# Incorporation of Crank - Nicolson Method for Solving PDEs via Finite Difference Method\n",
    "\n",
    "##### Brendon Pearlman, Shu Zhu, Yingge Liu"
   ]
  },
  {
   "cell_type": "code",
   "execution_count": null,
   "metadata": {},
   "outputs": [],
   "source": [
    "import numpy as np\n",
    "%matplotlib inline\n",
    "from matplotlib import pyplot as plt"
   ]
  },
  {
   "cell_type": "code",
   "execution_count": 2,
   "metadata": {},
   "outputs": [],
   "source": [
    "t=20. #h\n",
    "K=100\n",
    "dt=float(t)/float(K-1)\n",
    "t_grid=np.array([k*dt for k in range(K)])\n",
    "L=1. #m\n",
    "I=100\n",
    "dL=float(L)/float(I-1)\n",
    "L_grid=np.array([i*dL for i in range(I)])\n"
   ]
  },
  {
   "cell_type": "code",
   "execution_count": 3,
   "metadata": {},
   "outputs": [],
   "source": [
    "v=10. #m/h\n",
    "e0=0.4\n",
    "ps=0.95\n",
    "ds=1.4 #mm\n",
    "rs=1000000. #g/m3\n",
    "a=0.1\n",
    "c1=1.145\n",
    "c2=0.45\n",
    "c3=1.2*10**(-3)\n",
    "c4=0.2\n",
    "su=1000. #g/m3\n",
    "x=1.5\n",
    "y=0.75\n",
    "S=6*(1-e0)/ps/ds\n",
    "z=c2*S**0.61/(v**0.24)\n",
    "l0v=c1*S**1.35/(v**0.25)\n",
    "b=a/(S**0.65)"
   ]
  },
  {
   "cell_type": "code",
   "execution_count": 4,
   "metadata": {},
   "outputs": [],
   "source": [
    "f=lambda c,s:dL*(l0v*((1+b*(s/(rs*c3*c4*v))/e0)**x)*((1-(s/(rs*c3*c4*v))/e0)**y)*((1-s/su/v)**z))*c\n",
    "g=lambda c,s:dt*v*(l0v*((1+b*(s/(rs*c3*c4*v))/e0)**x)*((1-(s/(rs*c3*c4*v))/e0)**y)*((1-s/su/v)**z))*c\n"
   ]
  },
  {
   "cell_type": "code",
   "execution_count": 5,
   "metadata": {},
   "outputs": [],
   "source": [
    "C=np.array([50 for k in range(0,K)])\n",
    "Sgm=np.array([0 for i in range(0,I)])\n"
   ]
  },
  {
   "cell_type": "code",
   "execution_count": 6,
   "metadata": {},
   "outputs": [
    {
     "name": "stdout",
     "output_type": "stream",
     "text": [
      "[[-1.  1.  0. ...  0.  0.  0.]\n",
      " [ 0. -1.  1. ...  0.  0.  0.]\n",
      " [ 0.  0. -1. ...  0.  0.  0.]\n",
      " ...\n",
      " [ 0.  0.  0. ... -1.  1.  0.]\n",
      " [ 0.  0.  0. ...  0. -1.  1.]\n",
      " [ 0.  0.  0. ...  0.  0. -1.]]\n",
      "[[1. 0. 0. ... 0. 0. 0.]\n",
      " [0. 1. 0. ... 0. 0. 0.]\n",
      " [0. 0. 1. ... 0. 0. 0.]\n",
      " ...\n",
      " [0. 0. 0. ... 1. 0. 0.]\n",
      " [0. 0. 0. ... 0. 1. 0.]\n",
      " [0. 0. 0. ... 0. 0. 1.]]\n"
     ]
    }
   ],
   "source": [
    "A_c = np.diagflat([-1.]+[-1 for k in range(K-2)]+[-1.]) +\\\n",
    "      np.diagflat([1. for k in range(K-1)], 1)\n",
    "B_c = np.diagflat([0 for k in range(K)])\n",
    "A_s = np.diagflat([1. for i in range(I)])\n",
    "B_s= np.diagflat([1. for i in range(I)])\n",
    "print(A_c)\n",
    "print(A_s)"
   ]
  },
  {
   "cell_type": "code",
   "execution_count": 7,
   "metadata": {},
   "outputs": [],
   "source": [
    "f=lambda c,s:dL*(l0v*((1+b*(s/(rs*c3*c4*v))/e0)**x)*((1-(s/(rs*c3*c4*v))/e0)**y)*((1-s/su/v)**z))*c"
   ]
  },
  {
   "cell_type": "code",
   "execution_count": 8,
   "metadata": {},
   "outputs": [],
   "source": [
    "f_vec = lambda C, Sgm: np.multiply(dL, np.multiply(np.multiply(np.multiply(np.multiply(l0v,np.power(np.add(np.multiply(np.divide\n",
    "                       (np.divide(Sgm,np.multiply(np.multiply(np.multiply(rs,c3),c4),v)),e0),b),1),x)),np.power(np.subtract(1,np.divide\n",
    "                       (np.divide(Sgm,np.multiply(np.multiply(np.multiply(rs,c3),c4),v)),e0)),y)),np.power(np.subtract(1,np.divide(np.divide\n",
    "                       (Sgm,su),v)),z)),C))\n",
    "\n"
   ]
  },
  {
   "cell_type": "code",
   "execution_count": 9,
   "metadata": {},
   "outputs": [],
   "source": [
    "g=lambda c,s:dt*v*(l0v*((1+b*(s/(rs*c3*c4*v))/e0)**x)*((1-(s/(rs*c3*c4*v))/e0)**y)*((1-s/su/v)**z))*c"
   ]
  },
  {
   "cell_type": "code",
   "execution_count": 10,
   "metadata": {},
   "outputs": [],
   "source": [
    "g_vec = lambda C, Sgm: np.multiply(dt, np.multiply(v,np.multiply(np.multiply(np.multiply(np.multiply(l0v,np.power(np.add(np.multiply(np.divide\n",
    "                       (np.divide(Sgm,np.multiply(np.multiply(np.multiply(rs,c3),c4),v)),e0),b),1),x)),np.power(np.subtract(1,np.divide\n",
    "                       (np.divide(Sgm,np.multiply(np.multiply(np.multiply(rs,c3),c4),v)),e0)),y)),np.power(np.subtract(1,np.divide(np.divide\n",
    "                       (Sgm,su),v)),z)),C)))"
   ]
  },
  {
   "cell_type": "code",
   "execution_count": 11,
   "metadata": {},
   "outputs": [
    {
     "name": "stdout",
     "output_type": "stream",
     "text": [
      "1.247236917227552\n"
     ]
    }
   ],
   "source": [
    "print (f(C[0], Sgm[0]))"
   ]
  },
  {
   "cell_type": "code",
   "execution_count": 12,
   "metadata": {},
   "outputs": [
    {
     "name": "stdout",
     "output_type": "stream",
     "text": [
      "1.247236917227552\n"
     ]
    }
   ],
   "source": [
    "print (f(C[-1], Sgm[-1]))"
   ]
  },
  {
   "cell_type": "code",
   "execution_count": 13,
   "metadata": {},
   "outputs": [
    {
     "name": "stdout",
     "output_type": "stream",
     "text": [
      "[1.24723692 1.24723692 1.24723692 1.24723692 1.24723692 1.24723692\n",
      " 1.24723692 1.24723692 1.24723692 1.24723692 1.24723692 1.24723692\n",
      " 1.24723692 1.24723692 1.24723692 1.24723692 1.24723692 1.24723692\n",
      " 1.24723692 1.24723692 1.24723692 1.24723692 1.24723692 1.24723692\n",
      " 1.24723692 1.24723692 1.24723692 1.24723692 1.24723692 1.24723692\n",
      " 1.24723692 1.24723692 1.24723692 1.24723692 1.24723692 1.24723692\n",
      " 1.24723692 1.24723692 1.24723692 1.24723692 1.24723692 1.24723692\n",
      " 1.24723692 1.24723692 1.24723692 1.24723692 1.24723692 1.24723692\n",
      " 1.24723692 1.24723692 1.24723692 1.24723692 1.24723692 1.24723692\n",
      " 1.24723692 1.24723692 1.24723692 1.24723692 1.24723692 1.24723692\n",
      " 1.24723692 1.24723692 1.24723692 1.24723692 1.24723692 1.24723692\n",
      " 1.24723692 1.24723692 1.24723692 1.24723692 1.24723692 1.24723692\n",
      " 1.24723692 1.24723692 1.24723692 1.24723692 1.24723692 1.24723692\n",
      " 1.24723692 1.24723692 1.24723692 1.24723692 1.24723692 1.24723692\n",
      " 1.24723692 1.24723692 1.24723692 1.24723692 1.24723692 1.24723692\n",
      " 1.24723692 1.24723692 1.24723692 1.24723692 1.24723692 1.24723692\n",
      " 1.24723692 1.24723692 1.24723692 1.24723692]\n"
     ]
    }
   ],
   "source": [
    "print (f_vec(C, Sgm))"
   ]
  },
  {
   "cell_type": "code",
   "execution_count": 14,
   "metadata": {},
   "outputs": [],
   "source": [
    "C_record = []\n",
    "Sgm_record = []\n",
    "\n",
    "C_record.append(C)\n",
    "Sgm_record.append(Sgm)\n",
    "\n",
    "for k in range(K):\n",
    "    Sgm_new = np.linalg.solve(A_s, B_s.dot(Sgm)+g_vec(C,Sgm))\n",
    "for i in range(I):\n",
    "    C_new = np.linalg.solve(A_c,B_c.dot(C)+f_vec(C,Sgm))\n",
    "    \n",
    "C = C_new\n",
    "Sgm = Sgm_new\n",
    "    \n",
    "C_record.append(C)\n",
    "Sgm_record.append(Sgm)"
   ]
  },
  {
   "cell_type": "code",
   "execution_count": 15,
   "metadata": {},
   "outputs": [
    {
     "data": {
      "image/png": "[encoded data removed]",
      "text/plain": [
       "<Figure size 432x288 with 1 Axes>"
      ]
     },
     "metadata": {},
     "output_type": "display_data"
    }
   ],
   "source": [
    "plt.plot(L_grid, C)\n",
    "plt.plot(L_grid, Sgm)\n",
    "plt.show()"
   ]
  },
  {
   "cell_type": "code",
   "execution_count": 16,
   "metadata": {
    "scrolled": true
   },
   "outputs": [
    {
     "ename": "NameError",
     "evalue": "name 's' is not defined",
     "output_type": "error",
     "traceback": [
      "\u001b[1;31m---------------------------------------------------------------------------\u001b[0m",
      "\u001b[1;31mNameError\u001b[0m                                 Traceback (most recent call last)",
      "\u001b[1;32m<ipython-input-16-2e5e60eabdbd>\u001b[0m in \u001b[0;36m<module>\u001b[1;34m()\u001b[0m\n\u001b[1;32m----> 1\u001b[1;33m \u001b[0mnp\u001b[0m\u001b[1;33m.\u001b[0m\u001b[0mmultiply\u001b[0m\u001b[1;33m(\u001b[0m\u001b[0mnp\u001b[0m\u001b[1;33m.\u001b[0m\u001b[0mmultiply\u001b[0m\u001b[1;33m(\u001b[0m\u001b[0mnp\u001b[0m\u001b[1;33m.\u001b[0m\u001b[0mmultiply\u001b[0m\u001b[1;33m(\u001b[0m\u001b[0mnp\u001b[0m\u001b[1;33m.\u001b[0m\u001b[0mmultiply\u001b[0m\u001b[1;33m(\u001b[0m\u001b[0ml0v\u001b[0m\u001b[1;33m,\u001b[0m\u001b[0mnp\u001b[0m\u001b[1;33m.\u001b[0m\u001b[0mpower\u001b[0m\u001b[1;33m(\u001b[0m\u001b[0mnp\u001b[0m\u001b[1;33m.\u001b[0m\u001b[0madd\u001b[0m\u001b[1;33m(\u001b[0m\u001b[0mnp\u001b[0m\u001b[1;33m.\u001b[0m\u001b[0mmultiply\u001b[0m\u001b[1;33m(\u001b[0m\u001b[0mnp\u001b[0m\u001b[1;33m.\u001b[0m\u001b[0mdivide\u001b[0m\u001b[1;33m(\u001b[0m\u001b[0mnp\u001b[0m\u001b[1;33m.\u001b[0m\u001b[0mdivide\u001b[0m\u001b[1;33m(\u001b[0m\u001b[0ms\u001b[0m\u001b[1;33m,\u001b[0m\u001b[0mnp\u001b[0m\u001b[1;33m.\u001b[0m\u001b[0mmultiply\u001b[0m\u001b[1;33m(\u001b[0m\u001b[0mnp\u001b[0m\u001b[1;33m.\u001b[0m\u001b[0mmultiply\u001b[0m\u001b[1;33m(\u001b[0m\u001b[0mnp\u001b[0m\u001b[1;33m.\u001b[0m\u001b[0mmultiply\u001b[0m\u001b[1;33m(\u001b[0m\u001b[0mrs\u001b[0m\u001b[1;33m,\u001b[0m\u001b[0mc3\u001b[0m\u001b[1;33m)\u001b[0m\u001b[1;33m,\u001b[0m\u001b[0mc4\u001b[0m\u001b[1;33m)\u001b[0m\u001b[1;33m,\u001b[0m\u001b[0mv\u001b[0m\u001b[1;33m)\u001b[0m\u001b[1;33m)\u001b[0m\u001b[1;33m,\u001b[0m\u001b[0me0\u001b[0m\u001b[1;33m)\u001b[0m\u001b[1;33m,\u001b[0m\u001b[0mb\u001b[0m\u001b[1;33m)\u001b[0m\u001b[1;33m,\u001b[0m\u001b[1;36m1\u001b[0m\u001b[1;33m)\u001b[0m\u001b[1;33m,\u001b[0m\u001b[0mx\u001b[0m\u001b[1;33m)\u001b[0m\u001b[1;33m)\u001b[0m\u001b[1;33m,\u001b[0m\u001b[0mnp\u001b[0m\u001b[1;33m.\u001b[0m\u001b[0mpower\u001b[0m\u001b[1;33m(\u001b[0m\u001b[0mnp\u001b[0m\u001b[1;33m.\u001b[0m\u001b[0msubtract\u001b[0m\u001b[1;33m(\u001b[0m\u001b[1;36m1\u001b[0m\u001b[1;33m,\u001b[0m\u001b[0mnp\u001b[0m\u001b[1;33m.\u001b[0m\u001b[0mdivide\u001b[0m\u001b[1;33m(\u001b[0m\u001b[0mnp\u001b[0m\u001b[1;33m.\u001b[0m\u001b[0mdivide\u001b[0m\u001b[1;33m(\u001b[0m\u001b[0ms\u001b[0m\u001b[1;33m,\u001b[0m\u001b[0mnp\u001b[0m\u001b[1;33m.\u001b[0m\u001b[0mmultiply\u001b[0m\u001b[1;33m(\u001b[0m\u001b[0mnp\u001b[0m\u001b[1;33m.\u001b[0m\u001b[0mmultiply\u001b[0m\u001b[1;33m(\u001b[0m\u001b[0mnp\u001b[0m\u001b[1;33m.\u001b[0m\u001b[0mmultiply\u001b[0m\u001b[1;33m(\u001b[0m\u001b[0mrs\u001b[0m\u001b[1;33m,\u001b[0m\u001b[0mc3\u001b[0m\u001b[1;33m)\u001b[0m\u001b[1;33m,\u001b[0m\u001b[0mc4\u001b[0m\u001b[1;33m)\u001b[0m\u001b[1;33m,\u001b[0m\u001b[0mv\u001b[0m\u001b[1;33m)\u001b[0m\u001b[1;33m)\u001b[0m\u001b[1;33m,\u001b[0m\u001b[0me0\u001b[0m\u001b[1;33m)\u001b[0m\u001b[1;33m)\u001b[0m\u001b[1;33m,\u001b[0m\u001b[0my\u001b[0m\u001b[1;33m)\u001b[0m\u001b[1;33m)\u001b[0m\u001b[1;33m,\u001b[0m\u001b[0mnp\u001b[0m\u001b[1;33m.\u001b[0m\u001b[0mpower\u001b[0m\u001b[1;33m(\u001b[0m\u001b[0mnp\u001b[0m\u001b[1;33m.\u001b[0m\u001b[0msubtract\u001b[0m\u001b[1;33m(\u001b[0m\u001b[1;36m1\u001b[0m\u001b[1;33m,\u001b[0m\u001b[0mnp\u001b[0m\u001b[1;33m.\u001b[0m\u001b[0mdivide\u001b[0m\u001b[1;33m(\u001b[0m\u001b[0mnp\u001b[0m\u001b[1;33m.\u001b[0m\u001b[0mdivide\u001b[0m\u001b[1;33m(\u001b[0m\u001b[0ms\u001b[0m\u001b[1;33m,\u001b[0m\u001b[0msu\u001b[0m\u001b[1;33m)\u001b[0m\u001b[1;33m,\u001b[0m\u001b[0mv\u001b[0m\u001b[1;33m)\u001b[0m\u001b[1;33m)\u001b[0m\u001b[1;33m,\u001b[0m\u001b[0mz\u001b[0m\u001b[1;33m)\u001b[0m\u001b[1;33m)\u001b[0m\u001b[1;33m,\u001b[0m\u001b[0mc\u001b[0m\u001b[1;33m)\u001b[0m\u001b[1;33m\u001b[0m\u001b[0m\n\u001b[0m",
      "\u001b[1;31mNameError\u001b[0m: name 's' is not defined"
     ]
    }
   ],
   "source": [
    "np.multiply(np.multiply(np.multiply(np.multiply(l0v,np.power(np.add(np.multiply(np.divide(np.divide(s,np.multiply(np.multiply(np.multiply(rs,c3),c4),v)),e0),b),1),x)),np.power(np.subtract(1,np.divide(np.divide(s,np.multiply(np.multiply(np.multiply(rs,c3),c4),v)),e0)),y)),np.power(np.subtract(1,np.divide(np.divide(s,su),v)),z)),c)"
   ]
  },
  {
   "cell_type": "code",
   "execution_count": null,
   "metadata": {},
   "outputs": [],
   "source": [
    "s0=s/(rs*c3*c4*v)\n",
    "l=l0v*((1+b*s0/e0)**x)*((1-s0/e0)**y)*((1-s/su/v)**z)"
   ]
  }
 ],
 "metadata": {
  "kernelspec": {
   "display_name": "Python 3",
   "language": "python",
   "name": "python3"
  },
  "language_info": {
   "codemirror_mode": {
    "name": "ipython",
    "version": 3
   },
   "file_extension": ".py",
   "mimetype": "text/x-python",
   "name": "python",
   "nbconvert_exporter": "python",
   "pygments_lexer": "ipython3",
   "version": "3.6.5"
  }
 },
 "nbformat": 4,
 "nbformat_minor": 2
}
