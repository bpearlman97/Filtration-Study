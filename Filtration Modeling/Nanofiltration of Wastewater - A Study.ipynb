{
 "cells": [
  {
   "cell_type": "markdown",
   "metadata": {},
   "source": [
    "# Filtration Modeling\n",
    "\n",
    "## Metal-Organic Frameworks\n",
    "##### Brendon Pearlman, Shu Zhu, Yingge Liu"
   ]
  },
  {
   "cell_type": "code",
   "execution_count": 4,
   "metadata": {},
   "outputs": [],
   "source": [
    "import numpy as np\n",
    "from matplotlib import pyplot as plt\n",
    "from scipy.integrate import odeint\n",
    "%matplotlib inline"
   ]
  },
  {
   "cell_type": "markdown",
   "metadata": {},
   "source": [
    "### Mass Balance Equation - Filtration of Particles\n",
    "\n",
    "For further reading, see: [Modelling and Simulation of Filtration](http://et.ippt.gov.pl/index.php/et/article/view/535/381)\n",
    "\n",
    "$ \\frac{\\partial}{\\partial t} \\sigma(t,L) + v\\frac{\\partial}{\\partial L}C(t,L) = 0 $  | $ \\sigma(t,L) = \\sigma_0 (t,L) \\rho_s c_3 c_4 (v(t)) $\n",
    "\n",
    "$ \\frac{\\partial C(t,L)}{\\partial L} = -\\lambda C(t,L) $ \n",
    "\n",
    "$ \\lambda = \\lambda_0 (v(t)) \\left(1 + \\beta \\frac{\\sigma_0(t,L)}{\\epsilon_0}\\right)^x \\left(1-\\frac{\\sigma_0(t,L)}{\\epsilon_0} \\right)^y \\left( 1- \\frac{\\sigma(t,L)}{\\sigma_u(v(t))} \\right)^{z(v(t))}$\n",
    "\n",
    "* Term 1: accounts for increase in bed surface from deposition on bed\n",
    "* Term 2: accounts for decrease in bed porosity during filtration in relation to initial porosity\n",
    "* Term 3: accounts for increase in average filtration velocity due to reduction in cross-section of pores as a result of deposition\n",
    "\n",
    "$ \\lambda_0(v(t)) = C_1 \\frac{S^{1.35}}{v(t)^{0.25}} $ | $ \\beta = \\frac{a}{S^{0.65}} $ | $ S = \\frac{6(1-\\epsilon_0)}{\\varphi d_s} $ | $z(v) = c_2 \\frac{S^{0.61}}{v(t)^{0.24}} $\n",
    "\n",
    "\n",
    "Where:\n",
    "* $\\sigma(t,L) = $ Absolute Specific Density in bed at time t, at depth L\n",
    "* $\\sigma_0 (t,L) = $ Bulk Specific Deposit in bed at time t, at depth L\n",
    "* $\\sigma_u  = $ Concentration of particles for which filter coefficient equals zero\n",
    "* $\\rho_s = $ arbitrary density of deposited material, $[g/m^3]$\n",
    "* $\\lambda = f(\\lambda_0, \\sigma(t,L), v(t)) $, filter coefficient (efficiency of removing particles), $m^{-1}$\n",
    "* $c_3 = 0.2$ $m^{-1}$\n",
    "* $c_4 = 1.2e-3$ to $6.3e-3$"
   ]
  },
  {
   "cell_type": "markdown",
   "metadata": {},
   "source": [
    "### Head Loss Equation\n",
    "\n",
    "$ \\frac{\\partial}{\\partial L} h(t,L) = 1 - \\frac{K_0 \\mu v(1-\\epsilon_0)^2}{\\rho g \\epsilon_0^3 \\varphi^2 d_s^2} - b_1 \\left(\\frac{6(1-\\epsilon_0)}{\\varphi d_s} \\right)^{0.9} v^{0.4} \\sigma (t,L) $\n",
    "\n",
    "* Term 2: head losses at flow through clean bed\n",
    "* Term 3: losses resulting from particle deposition\n",
    "\n",
    "**Boundary Conditions:**\n",
    "* $h(t,0) = h_0$\n",
    "    * $h_0 = $ height of water layer over the bed\n",
    "\n",
    "Where:\n",
    "* $K_0 = $ Kozena constant\n",
    "* $\\sigma(t,L) = $ concentration of particles accumulated over time t at depth L\n",
    "\n",
    "\n"
   ]
  },
  {
   "cell_type": "markdown",
   "metadata": {},
   "source": [
    "## Summary of Equations for Numerical Solution\n",
    "\n",
    "#### Main Equations\n",
    "1. $C(k,i) = \\frac{C(k,i-1)}{1+\\Delta L \\lambda (\\sigma (k,i))} $\n",
    "\n",
    "1. $ \\sigma(k,i) = \\sigma(k-1,i) + \\Delta tv(k-1) \\lambda \\left(\\sigma(k-1,i)\\right)C(k-1,i) $\n",
    "\n",
    "1. $ h(k,i) = h(k,i-1) + \\Delta k_1 (\\sigma (k,i)) + k_2 $\n",
    "\n",
    "\n",
    "#### Initial and Boundary Conditions\n",
    "\n",
    "* $C(k,0)$ = known concentration on upper bed surface\n",
    "* $\\sigma(0,i)$ = known concentration of particles accumulated in bed at beginning of process (i.e. for $t=0$)\n",
    "* $h(k,0)$ = known pressure on upper surface of the bed"
   ]
  },
  {
   "cell_type": "code",
   "execution_count": null,
   "metadata": {},
   "outputs": [],
   "source": []
  }
 ],
 "metadata": {
  "kernelspec": {
   "display_name": "Python 3",
   "language": "python",
   "name": "python3"
  },
  "language_info": {
   "codemirror_mode": {
    "name": "ipython",
    "version": 3
   },
   "file_extension": ".py",
   "mimetype": "text/x-python",
   "name": "python",
   "nbconvert_exporter": "python",
   "pygments_lexer": "ipython3",
   "version": "3.6.5"
  }
 },
 "nbformat": 4,
 "nbformat_minor": 2
}
