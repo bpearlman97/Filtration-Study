{
 "cells": [
  {
   "cell_type": "markdown",
   "metadata": {},
   "source": [
    "# Filtration Modeling\n",
    "\n",
    "## Metal-Organic Frameworks\n",
    "##### Brendon Pearlman, Shu Zhu, Yingge Liu"
   ]
  },
  {
   "cell_type": "code",
   "execution_count": 4,
   "metadata": {},
   "outputs": [],
   "source": [
    "import numpy as np\n",
    "from matplotlib import pyplot as plt\n",
    "from scipy.integrate import odeint\n",
    "%matplotlib inline"
   ]
  },
  {
   "cell_type": "markdown",
   "metadata": {},
   "source": [
    "### Mass Balance Equation - Filtration of Particles\n",
    "\n",
    "For further reading, see: [Modelling and Simulation of Filtration](http://et.ippt.gov.pl/index.php/et/article/view/535/381)\n",
    "\n",
    "$ \\frac{\\partial}{\\partial t} \\sigma(t,L) + v\\frac{\\partial}{\\partial L}C(t,L) = 0 $  | $ \\sigma(t,L) = \\sigma_0 (t,L) \\rho_s c_3 c_4 (v(t)) $\n",
    "\n",
    "$ \\frac{\\partial C(t,L)}{\\partial L} = -\\lambda C(t,L) $ \n",
    "\n",
    "$ \\lambda = \\lambda_0 (v(t)) \\left(1 + \\beta \\frac{\\sigma_0(t,L)}{\\epsilon_0}\\right)^x \\left(1-\\frac{\\sigma_0(t,L)}{\\epsilon_0} \\right)^y \\left( 1- \\frac{\\sigma(t,L)}{\\sigma_u(v(t))} \\right)^{z(v(t))}$\n",
    "\n",
    "$ \\lambda_0(v(t)) = C_1 \\frac{S^{1.35}}{v(t)^{0.25}} $ | $ \\beta = \\frac{a}{S^{0.65}} $ | $ S = \\frac{6(1-\\epsilon_0)}{\\varphi d_s} $ | $z(v) = c_2 \\frac{S^{0.61}}{v(t)^{0.24}} $\n"
   ]
  },
  {
   "cell_type": "code",
   "execution_count": null,
   "metadata": {},
   "outputs": [],
   "source": [
    "def bulk_specific_density():\n",
    "    \n",
    "    \n",
    "    \n",
    "    return "
   ]
  },
  {
   "cell_type": "code",
   "execution_count": 2,
   "metadata": {},
   "outputs": [],
   "source": [
    "def Concentration_Gradient(initial_concentration = 50,\n",
    "                           stream_velocity = 10,\n",
    "                           mean_particle_diameter = 1.4,\n",
    "                           phi_constant = .95,\n",
    "                           bed_porosity = .4,\n",
    "                           creep_constant = 1.145,\n",
    "                           porous_resistance = .1,\n",
    "                           coefficient_2 = .45,\n",
    "                           plugged_particle_concentration = 10^3,\n",
    "                           x = 1.5,\n",
    "                           y = .75):\n",
    "    \"\"\"\n",
    "    Function to calculate dependence of concentration on filtration time t and depth L\n",
    "            \n",
    "    Inputs:\n",
    "        > Initial Concentration - C0, [g/m3]\n",
    "        > Stream Velocity - v, [m/h]\n",
    "        > Particle Diameter - ds, [mm]\n",
    "        > Bed Porosity\n",
    "        > Particle Concentration for which filter coefficient equals zero - [g/m3]\n",
    "        > Coefficients - phi, C1 (creep), c2\n",
    "        > Exponents - x, y\n",
    "    \n",
    "    Output(s): \n",
    "        > dC/dL - change of concentration as depth changes\n",
    "    \n",
    "    \n",
    "    Note: Equation numbers relate to equations within Modelling and Simulation of Filtration... research publication\n",
    "    \"\"\"\n",
    "    \n",
    "    # Equation 2.10\n",
    "    pore_saturation = 6 * ( (1 - bed_porosity) / (phi_constant * mean_particle_diameter) )\n",
    "    \n",
    "    # Equation 2.9\n",
    "    initial_filter_coefficient = creep_constant * ( (pore_saturation^1.35) / stream_velocity^.25 )\n",
    "    \n",
    "    # Equation 2.11\n",
    "    filter_resistance = porous_resistance / (pore_saturation^.65)\n",
    "    \n",
    "    #Equation 2.12\n",
    "    average_filtration_velocity = coefficient_2 * ( (pore_saturation^.61) / (stream_velocity^.24) )\n",
    "    \n",
    "    return dCdL"
   ]
  },
  {
   "cell_type": "markdown",
   "metadata": {},
   "source": [
    "### Head Loss Equation\n",
    "\n",
    "$ \\frac{\\partial}{\\partial L} h(t,L) = 1 - \\frac{K_0 \\mu v(1-\\epsilon_0)^2}{\\rho g \\epsilon_0^3 \\varphi^2 d_s^2} - b_1 \\left(\\frac{6(1-\\epsilon_0)}{\\varphi d_s} \\right)^{0.9} v^{0.4} \\sigma (t,L) $\n",
    "\n",
    "* Term 2: head losses at flow through clean bed\n",
    "* Term 3: losses resulting from particle deposition\n",
    "\n",
    "**Boundary Conditions:**\n",
    "* $h(t,0) = h_0$\n",
    "    * $h_0 = $ height of water layer over the bed\n",
    "\n",
    "Where:\n",
    "* $K_0 = $ Kozena constant\n",
    "* $\\sigma(t,L) = $ concentration of particles accumulated over time t at depth L\n",
    "\n",
    "\n"
   ]
  }
 ],
 "metadata": {
  "kernelspec": {
   "display_name": "Python 3",
   "language": "python",
   "name": "python3"
  },
  "language_info": {
   "codemirror_mode": {
    "name": "ipython",
    "version": 3
   },
   "file_extension": ".py",
   "mimetype": "text/x-python",
   "name": "python",
   "nbconvert_exporter": "python",
   "pygments_lexer": "ipython3",
   "version": "3.6.5"
  }
 },
 "nbformat": 4,
 "nbformat_minor": 2
}
