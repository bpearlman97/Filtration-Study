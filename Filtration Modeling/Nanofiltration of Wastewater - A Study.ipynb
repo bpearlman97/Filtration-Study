{
 "cells": [
  {
   "cell_type": "markdown",
   "metadata": {},
   "source": [
    "# Filtration Modeling\n",
    "\n",
    "## Metal-Organic Frameworks and their application to Nanofiltration\n",
    "##### Brendon Pearlman, Shu Zhu, Yingge Liu"
   ]
  },
  {
   "cell_type": "markdown",
   "metadata": {},
   "source": [
    "In this study, we attempt to primarily understand and, secondarily, model the filtration capabilities of metal organic frameworks (MOFs) for wastewater treatment.  To do this, we have taken into consideration the following parameters:\n",
    "* Pressure Drop\n",
    "* Pore Size\n",
    "* Particle Density\n",
    "* Surface Area for filtration\n",
    "* Feed Stream Velocity\n",
    "\n",
    "In order to understand MOF application to filtration, it was necessary to first implement filtration of wastewater via common filtration methods, which incorporate dense beds with multiple layers to achieve constricted pore size, high pressure drop, and ultimately purified streams.  From prior studies of filter performance, it has been observed that smaller filter pores often subsequent in increased fouling via pore blocking.  On the other hand, larger pore sizes see similar fouling during cake filtration."
   ]
  },
  {
   "cell_type": "code",
   "execution_count": 4,
   "metadata": {},
   "outputs": [],
   "source": [
    "import numpy as np\n",
    "from matplotlib import pyplot as plt\n",
    "from scipy.integrate import odeint\n",
    "%matplotlib inline"
   ]
  },
  {
   "cell_type": "markdown",
   "metadata": {},
   "source": [
    "### Mass Balance Equation - Filtration of Particles\n",
    "\n",
    "For further reading, see: [Modelling and Simulation of Filtration](http://et.ippt.gov.pl/index.php/et/article/view/535/381)\n",
    "\n",
    "$ \\frac{\\partial}{\\partial t} \\sigma(t,L) + v\\frac{\\partial}{\\partial L}C(t,L) = 0 $ \n",
    "\n",
    "$ \\sigma(t,L) = \\sigma_0 (t,L) \\rho_s c_3 c_4 (v(t)) $\n",
    "\n",
    "$ \\frac{\\partial C(t,L)}{\\partial L} = -\\lambda C(t,L) $\n",
    "\n",
    "$ \\lambda = \\left(1 + \\beta \\frac{\\sigma_0(t,L)}{\\epsilon_0}\\right)^x \\left(1-\\frac{\\sigma_0(t,L)}{\\epsilon_0} \\right)^y \\left( 1- \\frac{\\sigma(t,L)}{\\sigma_u(v(t))} \\right)^{z(v(t))}$\n",
    "\n",
    "* Term 1: accounts for increase in bed surface from deposition on bed\n",
    "* Term 2: accounts for decrease in bed porosity during filtration in relation to initial porosity\n",
    "* Term 3: accounts for increase in average filtration velocity due to reduction in cross-section of pores as a result of deposition\n",
    "\n",
    "$ \\beta = \\frac{a}{S^{0.65}} $ | $ S = \\frac{6(1-\\epsilon_0)}{\\varphi d_s} $ | $z(v) = c_2 \\frac{S^{0.61}}{v(t)^{0.24}} $\n",
    "\n",
    "\n",
    "Where: \n",
    "* $\\sigma_0 (t,L) = $ Bulk Specific Deposit in bed at time t, at depth L\n",
    "* $\\sigma_u  = $ Concentration of particles for which filter coefficient equals zero\n",
    "* $\\rho_s = $ arbitrary density of deposited material, $[g/m^3]$\n",
    "* $\\lambda = f(\\lambda_0, \\sigma(t,L), v(t)) $, filter coefficient, $m^{-1}$\n",
    "* $c_3 = 0.2$ $m^{-1}$\n",
    "* $c_4 = 1.2e-3$ to $6.3e-3$"
   ]
  },
  {
   "cell_type": "code",
   "execution_count": null,
   "metadata": {},
   "outputs": [],
   "source": []
  }
 ],
 "metadata": {
  "kernelspec": {
   "display_name": "Python 3",
   "language": "python",
   "name": "python3"
  },
  "language_info": {
   "codemirror_mode": {
    "name": "ipython",
    "version": 3
   },
   "file_extension": ".py",
   "mimetype": "text/x-python",
   "name": "python",
   "nbconvert_exporter": "python",
   "pygments_lexer": "ipython3",
   "version": "3.6.5"
  }
 },
 "nbformat": 4,
 "nbformat_minor": 2
}
