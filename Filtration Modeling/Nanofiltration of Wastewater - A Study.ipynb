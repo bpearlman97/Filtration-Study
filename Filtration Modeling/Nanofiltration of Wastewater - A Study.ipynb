{
 "cells": [
  {
   "cell_type": "markdown",
   "metadata": {},
   "source": [
    "# Filtration Modeling\n",
    "\n",
    "## Metal-Organic Frameworks\n",
    "##### Brendon Pearlman, Shu Zhu, Yingge Liu"
   ]
  },
  {
   "cell_type": "code",
   "execution_count": 4,
   "metadata": {},
   "outputs": [],
   "source": [
    "import numpy as np\n",
    "from matplotlib import pyplot as plt\n",
    "from scipy.integrate import odeint\n",
    "%matplotlib inline"
   ]
  },
  {
   "cell_type": "markdown",
   "metadata": {},
   "source": [
    "### Mass Balance Equation - Filtration of Particles\n",
    "\n",
    "For further reading, see: [Modelling and Simulation of Filtration](http://et.ippt.gov.pl/index.php/et/article/view/535/381)\n",
    "\n",
    "$ \\frac{\\partial}{\\partial t} \\sigma(t,L) + v\\frac{\\partial}{\\partial L}C(t,L) = 0 $  | $ \\sigma(t,L) = \\sigma_0 (t,L) \\rho_s c_3 c_4 (v(t)) $\n",
    "\n",
    "$ \\frac{\\partial C(t,L)}{\\partial L} = -\\lambda C(t,L) $ \n",
    "\n",
    "$ \\lambda = \\lambda_0 (v(t)) \\left(1 + \\beta \\frac{\\sigma_0(t,L)}{\\epsilon_0}\\right)^x \\left(1-\\frac{\\sigma_0(t,L)}{\\epsilon_0} \\right)^y \\left( 1- \\frac{\\sigma(t,L)}{\\sigma_u(v(t))} \\right)^{z(v(t))}$\n",
    "\n",
    "* Term 1: accounts for increase in bed surface from deposition on bed\n",
    "* Term 2: accounts for decrease in bed porosity during filtration in relation to initial porosity\n",
    "* Term 3: accounts for increase in average filtration velocity due to reduction in cross-section of pores as a result of deposition\n",
    "\n",
    "$ \\lambda_0(v(t)) = C_1 \\frac{S^{1.35}}{v(t)^{0.25}} $ | $ \\beta = \\frac{a}{S^{0.65}} $ | $ S = \\frac{6(1-\\epsilon_0)}{\\varphi d_s} $ | $z(v) = c_2 \\frac{S^{0.61}}{v(t)^{0.24}} $\n",
    "\n",
    "\n",
    "Where:\n",
    "* $\\sigma(t,L) = $ Absolute Specific Density in bed at time t, at depth L\n",
    "* $a$ = resistance of porous medium\n",
    "* $z(v)$ = average filtration velocity\n",
    "* $\\sigma_0 (t,L) = $ Bulk Specific Deposit in bed at time t, at depth L\n",
    "* $\\sigma_u  = $ Concentration of particles for which filter coefficient equals zero\n",
    "* $\\epsilon_0 = $ initial bed porosity\n",
    "* $\\beta$ = filter medium resistance, $m^{-1}$\n",
    "* $C_1$ = Creep constant\n",
    "* $S$ = saturation of pores\n",
    "* $\\rho_s = $ arbitrary density of deposited material, $[g/m^3]$\n",
    "* $\\lambda = f(\\lambda_0, \\sigma(t,L), v(t)) $, filter coefficient (efficiency of removing particles), $m^{-1}$\n",
    "* $c_3 = 0.2$ $m^{-1}$\n",
    "* $c_4 = 1.2e-3$ to $6.3e-3$"
   ]
  },
  {
   "cell_type": "markdown",
   "metadata": {},
   "source": [
    "### Head Loss Equation\n",
    "\n",
    "$ \\frac{\\partial}{\\partial L} h(t,L) = 1 - \\frac{K_0 \\mu v(1-\\epsilon_0)^2}{\\rho g \\epsilon_0^3 \\varphi^2 d_s^2} - b_1 \\left(\\frac{6(1-\\epsilon_0)}{\\varphi d_s} \\right)^{0.9} v^{0.4} \\sigma (t,L) $\n",
    "\n",
    "* Term 2: head losses at flow through clean bed\n",
    "* Term 3: losses resulting from particle deposition\n",
    "\n",
    "**Boundary Conditions:**\n",
    "* $h(t,0) = h_0$\n",
    "    * $h_0 = $ height of water layer over the bed\n",
    "\n",
    "Where:\n",
    "* $K_0 = $ Kozena constant\n",
    "* $\\sigma(t,L) = $ concentration of particles accumulated over time t at depth L\n",
    "\n",
    "\n"
   ]
  },
  {
   "cell_type": "code",
   "execution_count": null,
   "metadata": {},
   "outputs": [],
   "source": [
    "def Concentration_Gradient_Function(initial_concentration = 50,\n",
    "                                    stream_velocity = 10\n",
    "                                    mean_particle_diameter = 1.4\n",
    "                                    phi_constant = .95\n",
    "                                    bed_porosity = .4\n",
    "                                    creep_constant = 1.145\n",
    "                                    porous_resistance = .1\n",
    "                                    coefficient_2 = .45):\n",
    "    \"\"\"\n",
    "    Function to calculate dependence of concentration on filtration time t and depth L\n",
    "            \n",
    "    Inputs:\n",
    "        > Initial concentration - C0, [g/m3]\n",
    "        > Stream Velocity - v, [m/h]\n",
    "        > Particle Diameter - ds, [mm]\n",
    "        > Bed Porosity\n",
    "        > Coefficients - phi, C1 (creep), c2\n",
    "    \n",
    "    Output(s): \n",
    "        > dC/dL - change of concentration as depth changes\n",
    "    \n",
    "    \"\"\"\n",
    "\n",
    "    pore_saturation = 6 * ( (1 - bed_porosity) / (phi_constant * mean_particle_diameter) )\n",
    "    \n",
    "    initial_filter_coefficient = creep_constant * ( (pore_saturation^1.35) / stream_velocity^.25 )\n",
    "    \n",
    "    filter_resistance = porous_resistance / (pore_saturation^.65)\n",
    "    \n",
    "    average_filtration_velocity = coefficient_2 * ( (pore_saturation^.61) / (stream_velocity^.24) )\n",
    "    \n",
    "    \n",
    "    \n",
    "    \n",
    "    \n",
    "    \n",
    "    \n",
    "    return dCdL"
   ]
  }
 ],
 "metadata": {
  "kernelspec": {
   "display_name": "Python 3",
   "language": "python",
   "name": "python3"
  },
  "language_info": {
   "codemirror_mode": {
    "name": "ipython",
    "version": 3
   },
   "file_extension": ".py",
   "mimetype": "text/x-python",
   "name": "python",
   "nbconvert_exporter": "python",
   "pygments_lexer": "ipython3",
   "version": "3.6.5"
  }
 },
 "nbformat": 4,
 "nbformat_minor": 2
}
